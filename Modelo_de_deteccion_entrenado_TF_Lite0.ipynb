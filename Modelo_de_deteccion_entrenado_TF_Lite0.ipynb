{
  "cells": [
    {
      "cell_type": "markdown",
      "metadata": {
        "id": "1xfPTi2gKRDY"
      },
      "source": [
        "# **1. Se importan los paquetes requeridos para la creacion del modelo de entrenamiento**"
      ]
    },
    {
      "cell_type": "code",
      "execution_count": null,
      "metadata": {
        "id": "9-2t82gGHV9-"
      },
      "outputs": [],
      "source": [
        "import numpy as np\n",
        "import os\n",
        "from tflite_model_maker.config import ExportFormat\n",
        "from tflite_model_maker import model_spec\n",
        "from tflite_model_maker import object_detector\n",
        "import tensorflow as tf\n",
        "#assert tf.__version__.startswith('2'"
      ]
    },
    {
      "cell_type": "markdown",
      "metadata": {},
      "source": [
        "Para agilizar el proceso de entrenamiento, se recomienda hacer uso de trajeta de video dedicada (CUDA Toolkit 11.2 y CuDNN 8.1.0)"
      ]
    },
    {
      "cell_type": "markdown",
      "metadata": {
        "id": "yMjCD59rKevM"
      },
      "source": [
        "# **2. Cargar base de datos previamente descargados de Roboflow**"
      ]
    },
    {
      "cell_type": "markdown",
      "metadata": {
        "id": "2RBpDrosDZB1"
      },
      "source": [
        "Se declaran los directorios correspondientes al entrenamiento, anotaciones, validacion y evaluacion del modelo, tambien se enumeran los tipos de clases en los cuales el etiquetado del dataset se llevó a cabo."
      ]
    },
    {
      "cell_type": "code",
      "execution_count": null,
      "metadata": {
        "colab": {
          "base_uri": "https://localhost:8080/"
        },
        "id": "79PQXQeXHZcH",
        "outputId": "1cf0353a-269b-4de9-d014-68abc53862ef"
      },
      "outputs": [],
      "source": [
        "tr_image_dir= 'D:/PUCV/14SEM/SEMINARIO DE PROYECTOS/MESA 5/AVANCE/MODELO ENTRENADO/Medidores-certif2015-dataset4/train'\n",
        "tr_image_annotations= 'D:/PUCV/14SEM/SEMINARIO DE PROYECTOS/MESA 5/AVANCE/MODELO ENTRENADO/Medidores-certif2015-dataset4/train'\n",
        "val_image_dir='D:/PUCV/14SEM/SEMINARIO DE PROYECTOS/MESA 5/AVANCE/MODELO ENTRENADO/Medidores-certif2015-dataset4/valid'\n",
        "test_image_dir= 'D:/PUCV/14SEM/SEMINARIO DE PROYECTOS/MESA 5/AVANCE/MODELO ENTRENADO/Medidores-certif2015-dataset4/test'\n",
        "\n",
        "label_map={1:'0', 2:'1', 3:'2', 4:'3', 5: '4', 6:'5', 7: '6', 8:'7', 9:'8', 10:'9', 11:'consumption'}\n",
        "print(label_map)\n",
        "\n",
        "# Muestras de entrenamiento: la informacion es caragda como tfrecord y almacenada en la carpeta de cache para un uso futuro\n",
        "train_ds = object_detector.DataLoader.from_pascal_voc(images_dir=tr_image_dir,\n",
        "                                                      annotations_dir= tr_image_dir,\n",
        "                                                      label_map=label_map\n",
        "                                                     )\n",
        "# Muestras de validacion.\n",
        "val_ds = object_detector.DataLoader.from_pascal_voc(images_dir=val_image_dir,\n",
        "                                                      annotations_dir= val_image_dir,\n",
        "                                                      label_map=label_map,\n",
        "                                                     )\n",
        "# Muestras de evaluacion.\n",
        "test_ds = object_detector.DataLoader.from_pascal_voc(images_dir=test_image_dir,\n",
        "                                                      annotations_dir= test_image_dir,\n",
        "                                                      label_map=label_map,\n",
        "                                                     )\n",
        "\n",
        "print(\"Train dataset contains {} images\".format(train_ds.__len__()))"
      ]
    },
    {
      "cell_type": "code",
      "execution_count": null,
      "metadata": {
        "id": "kSipPSzqHZMN"
      },
      "outputs": [],
      "source": [
        "spec = model_spec.get('efficientdet_lite0')"
      ]
    },
    {
      "cell_type": "code",
      "execution_count": 12,
      "metadata": {},
      "outputs": [
        {
          "name": "stdout",
          "output_type": "stream",
          "text": [
            "[name: \"/device:CPU:0\"\n",
            "device_type: \"CPU\"\n",
            "memory_limit: 268435456\n",
            "locality {\n",
            "}\n",
            "incarnation: 12694820796207922855\n",
            "xla_global_id: -1\n",
            ", name: \"/device:GPU:0\"\n",
            "device_type: \"GPU\"\n",
            "memory_limit: 3645898752\n",
            "locality {\n",
            "  bus_id: 1\n",
            "  links {\n",
            "  }\n",
            "}\n",
            "incarnation: 8610124066002658773\n",
            "physical_device_desc: \"device: 0, name: NVIDIA GeForce RTX 3060 Laptop GPU, pci bus id: 0000:01:00.0, compute capability: 8.6\"\n",
            "xla_global_id: 416903419\n",
            "]\n"
          ]
        }
      ],
      "source": [
        "from tensorflow.python.client import device_lib \n",
        "print(device_lib.list_local_devices())"
      ]
    },
    {
      "cell_type": "markdown",
      "metadata": {
        "id": "sWc1G_zKK2CF"
      },
      "source": [
        "# **3. Entrenar el modelo de TensorFlow con los datos de entrenamiento**\n",
        "\n",
        "Se define el modelo en base al tipo, EfficientDet-Lite0, es un tipo de modelo el cual es bastante liviano en comparacion al resto, ademas, es bastante liviano y permite el uso offline de esta, debido a que el modelo es almacenado en el dispositivo, esto favorece el propósito de la aplicacion.\n",
        "\n",
        "\n",
        "1.   'EfficientDet-Lite0': utiliza de forma predetermianda 50 epocas, lo que significa que repasará las muestras 50 veces, la precision en la etapa de validacion puede ser revisada en tiempo real mientras se ejecuta el entrenamiento, asi como peude ser abortada para evitar el solapamiento.\n",
        "2.   'batch_size': es el tamaño de la tanda de muestras que analiza el modelo por cada etapa, para este caso, es 6, ya que 6 veces 100 imagenes resultan 600 muestras totales.\n",
        "3.   'train_whole_model': para afinar la precision del modelo completo se debe fijar en 'true', este entrena el modelo completo y no solo la priemra capa, esto puede mejorar sustancialemnte la precision, pero puede tardar mas tiempo en entrenarse.\n"
      ]
    },
    {
      "cell_type": "code",
      "execution_count": null,
      "metadata": {
        "colab": {
          "base_uri": "https://localhost:8080/"
        },
        "id": "t3teLTkMHf-M",
        "outputId": "bd7d4fd3-1b7d-4943-cdb0-68abaeaec9ee"
      },
      "outputs": [],
      "source": [
        "model = object_detector.create(train_ds, model_spec=spec, batch_size=6, train_whole_model=True, validation_data=val_ds,epochs = 300)"
      ]
    },
    {
      "cell_type": "markdown",
      "metadata": {
        "id": "fnF7bQYtLNk7"
      },
      "source": [
        "# **4. Exportar el modelo**\n",
        "\n",
        "Se exporta el modelo entrenado en formato de TensorFlow Lite indicando la carpeta de destino. La cuantizacion de post-entrenado predeterminada es una tecnica de cuantizacion integrada"
      ]
    },
    {
      "cell_type": "code",
      "execution_count": null,
      "metadata": {
        "id": "uW5JevD0IM3H"
      },
      "outputs": [],
      "source": [
        "model.export(export_dir='D:/PUCV/14SEM/SEMINARIO DE PROYECTOS/MESA 5/AVANCE/MODELO ENTRENADO/Medidores-certif2015-dataset4')"
      ]
    },
    {
      "cell_type": "markdown",
      "metadata": {
        "id": "W429H4jVIdj5"
      },
      "source": [
        "# **5. Modelo exportado**"
      ]
    },
    {
      "cell_type": "markdown",
      "metadata": {
        "id": "RDjeiF77QlF0"
      },
      "source": [
        "los factores que pueden afectar la exactitud del modelo pueden ser:\n",
        "\n",
        "*   La cuantizacion ayuda a disminuir alrededor de 4 veces el tamaño del modelo anterior respecto de la precision\n",
        "*   el modelo TFlite utiliza menos espacio pero disminuye la precision, esto debido a que otros modelo utilizan una supresion sin maximo de clases (NMS) para el post-procesado, mientras que TFLite utiliza una supresion de clases global, el cuale s mucho mas rapida, pero menos precisa. El resultado máxzimo de Keras es hasta 100 detecciones, mientras que TFLite solo admite 25.\n",
        "\n",
        "La etapa de entrenamiento se finalizó, ahora se procede a la confeccion e implementacion del modelo entrenado en la plataforma movil.\n"
      ]
    }
  ],
  "metadata": {
    "colab": {
      "provenance": []
    },
    "kernelspec": {
      "display_name": "tfliteModel",
      "language": "python",
      "name": "python3"
    },
    "language_info": {
      "codemirror_mode": {
        "name": "ipython",
        "version": 3
      },
      "file_extension": ".py",
      "mimetype": "text/x-python",
      "name": "python",
      "nbconvert_exporter": "python",
      "pygments_lexer": "ipython3",
      "version": "3.7.15 (default, Nov  9 2022, 10:44:37) [MSC v.1916 64 bit (AMD64)]"
    },
    "vscode": {
      "interpreter": {
        "hash": "4e14737829b2d0b609f249c71887bc46efbe65f0d68345e1db96fda677eb88c4"
      }
    }
  },
  "nbformat": 4,
  "nbformat_minor": 0
}
